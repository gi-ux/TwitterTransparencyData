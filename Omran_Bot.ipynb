{
 "cells": [
  {
   "cell_type": "code",
   "execution_count": 1,
   "id": "66eb2a4d",
   "metadata": {},
   "outputs": [],
   "source": [
    "import pandas as pd\n",
    "import numpy as np\n",
    "import warnings\n",
    "warnings.filterwarnings('ignore')\n",
    "import time\n",
    "from time import perf_counter\n",
    "import glob\n",
    "import sys\n",
    "sys.path.append('C:/Users/gianl/Desktop/Gi/Supsi/BachelorProject/notebook/tweet_utils')\n",
    "import tweets_utils\n",
    "import json\n",
    "import matplotlib.pyplot as plt\n",
    "import plotly.express as px\n",
    "from matplotlib.pyplot import figure\n",
    "from tqdm.notebook import tqdm\n",
    "import importlib\n",
    "import matplotlib.ticker as mtick"
   ]
  },
  {
   "cell_type": "code",
   "execution_count": 2,
   "id": "f757f354",
   "metadata": {},
   "outputs": [
    {
     "data": {
      "text/plain": [
       "['C:/Users/gianl/Desktop/bom\\\\users_1\\\\score_results.json',\n",
       " 'C:/Users/gianl/Desktop/bom\\\\users_10\\\\score_results.json',\n",
       " 'C:/Users/gianl/Desktop/bom\\\\users_11\\\\score_results.json',\n",
       " 'C:/Users/gianl/Desktop/bom\\\\users_12\\\\score_results.json',\n",
       " 'C:/Users/gianl/Desktop/bom\\\\users_2\\\\score_results.json',\n",
       " 'C:/Users/gianl/Desktop/bom\\\\users_3\\\\score_results.json',\n",
       " 'C:/Users/gianl/Desktop/bom\\\\users_4\\\\score_results.json',\n",
       " 'C:/Users/gianl/Desktop/bom\\\\users_5\\\\score_results.json',\n",
       " 'C:/Users/gianl/Desktop/bom\\\\users_6\\\\score_results.json',\n",
       " 'C:/Users/gianl/Desktop/bom\\\\users_7\\\\score_results.json',\n",
       " 'C:/Users/gianl/Desktop/bom\\\\users_8\\\\score_results.json',\n",
       " 'C:/Users/gianl/Desktop/bom\\\\users_9\\\\score_results.json',\n",
       " 'C:/Users/gianl/Desktop/bom\\\\user_0\\\\score_results_0.json',\n",
       " 'C:/Users/gianl/Desktop/bom\\\\user_13\\\\score_results_13.json']"
      ]
     },
     "execution_count": 2,
     "metadata": {},
     "output_type": "execute_result"
    }
   ],
   "source": [
    "# path = glob.glob('C:/Users/gianl/Desktop/Gi/Supsi/BachelorProject/json_scored/*.json')\n",
    "path = glob.glob(\"C:/Users/gianl/Desktop/bom/*/*.json\")\n",
    "path"
   ]
  },
  {
   "cell_type": "code",
   "execution_count": 3,
   "id": "2af8cddd",
   "metadata": {},
   "outputs": [
    {
     "data": {
      "application/vnd.jupyter.widget-view+json": {
       "model_id": "81fd927094194ba491b4d2853e7db014",
       "version_major": 2,
       "version_minor": 0
      },
      "text/plain": [
       "HBox(children=(HTML(value=''), FloatProgress(value=0.0, max=14.0), HTML(value='')))"
      ]
     },
     "metadata": {},
     "output_type": "display_data"
    },
    {
     "name": "stdout",
     "output_type": "stream",
     "text": [
      "\n"
     ]
    }
   ],
   "source": [
    "ids = []\n",
    "names = []\n",
    "caps = []\n",
    "scores = []\n",
    "error = 0\n",
    "for i in tqdm(path):\n",
    "    f = open(i, )\n",
    "    data = json.load(f)\n",
    "    keys = list(data.keys()) \n",
    "    for k in keys:\n",
    "        d = data[k]\n",
    "        if(d[\"scores\"] is None):\n",
    "            error = error + 1\n",
    "        elif len(list(d[\"scores\"].keys())) == 2:\n",
    "            error = error + 1\n",
    "        else:\n",
    "            id_ = d[\"id\"]\n",
    "            name = d[\"screen_name\"]            \n",
    "            cap = d[\"scores\"]['cap']\n",
    "            score = d[\"scores\"]['raw_scores'][\"english\"]\n",
    "            ids.append(id_)\n",
    "            names.append(name)\n",
    "            caps.append(cap)\n",
    "            scores.append(score)\n",
    "    f.close()"
   ]
  },
  {
   "cell_type": "code",
   "execution_count": 4,
   "id": "ebc2c4ae",
   "metadata": {},
   "outputs": [
    {
     "data": {
      "text/plain": [
       "36367"
      ]
     },
     "execution_count": 4,
     "metadata": {},
     "output_type": "execute_result"
    }
   ],
   "source": [
    "len(names)"
   ]
  },
  {
   "cell_type": "code",
   "execution_count": 5,
   "id": "1e7afbee",
   "metadata": {},
   "outputs": [
    {
     "data": {
      "text/plain": [
       "176020"
      ]
     },
     "execution_count": 5,
     "metadata": {},
     "output_type": "execute_result"
    }
   ],
   "source": [
    "error"
   ]
  },
  {
   "cell_type": "code",
   "execution_count": 21,
   "id": "5f8c8c50",
   "metadata": {},
   "outputs": [
    {
     "data": {
      "text/html": [
       "<div>\n",
       "<style scoped>\n",
       "    .dataframe tbody tr th:only-of-type {\n",
       "        vertical-align: middle;\n",
       "    }\n",
       "\n",
       "    .dataframe tbody tr th {\n",
       "        vertical-align: top;\n",
       "    }\n",
       "\n",
       "    .dataframe thead th {\n",
       "        text-align: right;\n",
       "    }\n",
       "</style>\n",
       "<table border=\"1\" class=\"dataframe\">\n",
       "  <thead>\n",
       "    <tr style=\"text-align: right;\">\n",
       "      <th></th>\n",
       "      <th>id</th>\n",
       "      <th>screen_name</th>\n",
       "    </tr>\n",
       "  </thead>\n",
       "  <tbody>\n",
       "    <tr>\n",
       "      <th>0</th>\n",
       "      <td>23413783</td>\n",
       "      <td>mrdysgo</td>\n",
       "    </tr>\n",
       "    <tr>\n",
       "      <th>1</th>\n",
       "      <td>23416945</td>\n",
       "      <td>PartyPrat</td>\n",
       "    </tr>\n",
       "    <tr>\n",
       "      <th>2</th>\n",
       "      <td>23419694</td>\n",
       "      <td>lilrinnieb</td>\n",
       "    </tr>\n",
       "    <tr>\n",
       "      <th>3</th>\n",
       "      <td>23422208</td>\n",
       "      <td>OfficialSchwa</td>\n",
       "    </tr>\n",
       "    <tr>\n",
       "      <th>4</th>\n",
       "      <td>23422336</td>\n",
       "      <td>FamilyTruckster</td>\n",
       "    </tr>\n",
       "    <tr>\n",
       "      <th>...</th>\n",
       "      <td>...</td>\n",
       "      <td>...</td>\n",
       "    </tr>\n",
       "    <tr>\n",
       "      <th>4423</th>\n",
       "      <td>1331969808330596352</td>\n",
       "      <td>newhavensue</td>\n",
       "    </tr>\n",
       "    <tr>\n",
       "      <th>4424</th>\n",
       "      <td>1332089067312459776</td>\n",
       "      <td>VicentedeCarva7</td>\n",
       "    </tr>\n",
       "    <tr>\n",
       "      <th>4425</th>\n",
       "      <td>1332194261509541888</td>\n",
       "      <td>ellis2503</td>\n",
       "    </tr>\n",
       "    <tr>\n",
       "      <th>4426</th>\n",
       "      <td>1332387451667505152</td>\n",
       "      <td>DrewSchaffer5</td>\n",
       "    </tr>\n",
       "    <tr>\n",
       "      <th>4427</th>\n",
       "      <td>1333008075515596800</td>\n",
       "      <td>campeanu_carmen</td>\n",
       "    </tr>\n",
       "  </tbody>\n",
       "</table>\n",
       "<p>212428 rows × 2 columns</p>\n",
       "</div>"
      ],
      "text/plain": [
       "                       id      screen_name\n",
       "0                23413783          mrdysgo\n",
       "1                23416945        PartyPrat\n",
       "2                23419694       lilrinnieb\n",
       "3                23422208    OfficialSchwa\n",
       "4                23422336  FamilyTruckster\n",
       "...                   ...              ...\n",
       "4423  1331969808330596352      newhavensue\n",
       "4424  1332089067312459776  VicentedeCarva7\n",
       "4425  1332194261509541888        ellis2503\n",
       "4426  1332387451667505152    DrewSchaffer5\n",
       "4427  1333008075515596800  campeanu_carmen\n",
       "\n",
       "[212428 rows x 2 columns]"
      ]
     },
     "execution_count": 21,
     "metadata": {},
     "output_type": "execute_result"
    }
   ],
   "source": [
    "path_data = glob.glob(\"C:/Users/gianl/Desktop/bom/*/*.csv\")\n",
    "df = pd.DataFrame()\n",
    "for i in path_data:\n",
    "    df_read = pd.read_csv(i)\n",
    "    df = df.append(df_read)\n",
    "    \n",
    "df"
   ]
  },
  {
   "cell_type": "code",
   "execution_count": 23,
   "id": "6329cbbc",
   "metadata": {},
   "outputs": [
    {
     "data": {
      "text/html": [
       "<div>\n",
       "<style scoped>\n",
       "    .dataframe tbody tr th:only-of-type {\n",
       "        vertical-align: middle;\n",
       "    }\n",
       "\n",
       "    .dataframe tbody tr th {\n",
       "        vertical-align: top;\n",
       "    }\n",
       "\n",
       "    .dataframe thead th {\n",
       "        text-align: right;\n",
       "    }\n",
       "</style>\n",
       "<table border=\"1\" class=\"dataframe\">\n",
       "  <thead>\n",
       "    <tr style=\"text-align: right;\">\n",
       "      <th></th>\n",
       "      <th>id</th>\n",
       "      <th>screen_name</th>\n",
       "    </tr>\n",
       "  </thead>\n",
       "  <tbody>\n",
       "    <tr>\n",
       "      <th>0</th>\n",
       "      <td>224</td>\n",
       "      <td>davepell</td>\n",
       "    </tr>\n",
       "    <tr>\n",
       "      <th>1</th>\n",
       "      <td>291</td>\n",
       "      <td>goldman</td>\n",
       "    </tr>\n",
       "    <tr>\n",
       "      <th>2</th>\n",
       "      <td>509</td>\n",
       "      <td>jerrymichalski</td>\n",
       "    </tr>\n",
       "    <tr>\n",
       "      <th>3</th>\n",
       "      <td>586</td>\n",
       "      <td>sacca</td>\n",
       "    </tr>\n",
       "    <tr>\n",
       "      <th>4</th>\n",
       "      <td>767</td>\n",
       "      <td>xeni</td>\n",
       "    </tr>\n",
       "    <tr>\n",
       "      <th>...</th>\n",
       "      <td>...</td>\n",
       "      <td>...</td>\n",
       "    </tr>\n",
       "    <tr>\n",
       "      <th>212423</th>\n",
       "      <td>1331969808330596352</td>\n",
       "      <td>newhavensue</td>\n",
       "    </tr>\n",
       "    <tr>\n",
       "      <th>212424</th>\n",
       "      <td>1332089067312459776</td>\n",
       "      <td>VicentedeCarva7</td>\n",
       "    </tr>\n",
       "    <tr>\n",
       "      <th>212425</th>\n",
       "      <td>1332194261509541888</td>\n",
       "      <td>ellis2503</td>\n",
       "    </tr>\n",
       "    <tr>\n",
       "      <th>212426</th>\n",
       "      <td>1332387451667505152</td>\n",
       "      <td>DrewSchaffer5</td>\n",
       "    </tr>\n",
       "    <tr>\n",
       "      <th>212427</th>\n",
       "      <td>1333008075515596800</td>\n",
       "      <td>campeanu_carmen</td>\n",
       "    </tr>\n",
       "  </tbody>\n",
       "</table>\n",
       "<p>212428 rows × 2 columns</p>\n",
       "</div>"
      ],
      "text/plain": [
       "                         id      screen_name\n",
       "0                       224         davepell\n",
       "1                       291          goldman\n",
       "2                       509   jerrymichalski\n",
       "3                       586            sacca\n",
       "4                       767             xeni\n",
       "...                     ...              ...\n",
       "212423  1331969808330596352      newhavensue\n",
       "212424  1332089067312459776  VicentedeCarva7\n",
       "212425  1332194261509541888        ellis2503\n",
       "212426  1332387451667505152    DrewSchaffer5\n",
       "212427  1333008075515596800  campeanu_carmen\n",
       "\n",
       "[212428 rows x 2 columns]"
      ]
     },
     "execution_count": 23,
     "metadata": {},
     "output_type": "execute_result"
    }
   ],
   "source": [
    "path_data = glob.glob(\"C:/Users/gianl/Desktop/bom/*.csv\")\n",
    "path_data\n",
    "df = pd.read_csv(path_data[0])\n",
    "df"
   ]
  },
  {
   "cell_type": "code",
   "execution_count": 88,
   "id": "13a64d9f",
   "metadata": {},
   "outputs": [
    {
     "data": {
      "text/plain": [
       "41"
      ]
     },
     "execution_count": 88,
     "metadata": {},
     "output_type": "execute_result"
    }
   ],
   "source": [
    "212428 - 212387"
   ]
  },
  {
   "cell_type": "code",
   "execution_count": 16,
   "id": "e005a229",
   "metadata": {},
   "outputs": [
    {
     "data": {
      "text/plain": [
       "{'english': 0.30618807248975083, 'universal': 0.43650814830094437}"
      ]
     },
     "execution_count": 16,
     "metadata": {},
     "output_type": "execute_result"
    }
   ],
   "source": [
    "x = pd.DataFrame(list(zip(ids, names, caps, scores)), columns=[\"id\", \"screen_name\", \"cap\", \"scores\"])\n",
    "x[\"cap\"][0]"
   ]
  },
  {
   "cell_type": "code",
   "execution_count": 12,
   "id": "cd7cb86b",
   "metadata": {},
   "outputs": [],
   "source": [
    "x = x.sort_values(by=[\"id\"])"
   ]
  },
  {
   "cell_type": "code",
   "execution_count": 13,
   "id": "ed8ed60d",
   "metadata": {},
   "outputs": [],
   "source": [
    "x.to_csv(\"C:/Users/gianl/Desktop/bom/scores.csv\", line_terminator=\"\\n\", index=False, encoding=\"utf-8\")"
   ]
  }
 ],
 "metadata": {
  "kernelspec": {
   "display_name": "Python 3",
   "language": "python",
   "name": "python3"
  },
  "language_info": {
   "codemirror_mode": {
    "name": "ipython",
    "version": 3
   },
   "file_extension": ".py",
   "mimetype": "text/x-python",
   "name": "python",
   "nbconvert_exporter": "python",
   "pygments_lexer": "ipython3",
   "version": "3.8.11"
  }
 },
 "nbformat": 4,
 "nbformat_minor": 5
}
