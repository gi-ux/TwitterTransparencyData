{
 "cells": [
  {
   "cell_type": "code",
   "execution_count": null,
   "id": "f71bacff",
   "metadata": {},
   "outputs": [],
   "source": [
    "from py_misinfo_exposure import PyMisinfoExposure\n",
    "import pandas as pd\n",
    "import json"
   ]
  },
  {
   "cell_type": "code",
   "execution_count": 2,
   "id": "4f6492bf",
   "metadata": {},
   "outputs": [
    {
     "name": "stderr",
     "output_type": "stream",
     "text": [
      "C:\\Users\\gianl\\AppData\\Roaming\\Python\\Python38\\site-packages\\py_misinfo_exposure\\py_misinfo_exposure.py:296: UserWarning: \n",
      "\n",
      "WARNING!! Misinfo. exposure scores missing for 1 users.\n",
      "\n",
      "Missing users:\n",
      "\t- User ID: 53159149\n",
      "\n",
      "  warnings.warn(message = warning_str)\n"
     ]
    },
    {
     "data": {
      "text/html": [
       "<div>\n",
       "<style scoped>\n",
       "    .dataframe tbody tr th:only-of-type {\n",
       "        vertical-align: middle;\n",
       "    }\n",
       "\n",
       "    .dataframe tbody tr th {\n",
       "        vertical-align: top;\n",
       "    }\n",
       "\n",
       "    .dataframe thead th {\n",
       "        text-align: right;\n",
       "    }\n",
       "</style>\n",
       "<table border=\"1\" class=\"dataframe\">\n",
       "  <thead>\n",
       "    <tr style=\"text-align: right;\">\n",
       "      <th></th>\n",
       "      <th>user</th>\n",
       "      <th>misinfo_score</th>\n",
       "    </tr>\n",
       "  </thead>\n",
       "  <tbody>\n",
       "  </tbody>\n",
       "</table>\n",
       "</div>"
      ],
      "text/plain": [
       "Empty DataFrame\n",
       "Columns: [user, misinfo_score]\n",
       "Index: []"
      ]
     },
     "execution_count": 2,
     "metadata": {},
     "output_type": "execute_result"
    }
   ],
   "source": [
    "\n",
    "pme = PyMisinfoExposure(bearer_token=bearer)\n",
    "pme.tweepy_bearer_authorization()\n",
    "users = pd.read_csv(\"C:/Users/gianl/Desktop/Gi/Supsi/BachelorProject/id_finder/username_to_id/result.csv\", \n",
    "           lineterminator=\"\\n\", low_memory=False)\n",
    "user_test_list = list(users[\"userid\"])\n",
    "\n",
    "misinfo_scores, missing_users = pme.get_misinfo_exposure_score(user_test_list)\n",
    "misinfo_scores"
   ]
  }
 ],
 "metadata": {
  "kernelspec": {
   "display_name": "Python 3",
   "language": "python",
   "name": "python3"
  },
  "language_info": {
   "codemirror_mode": {
    "name": "ipython",
    "version": 3
   },
   "file_extension": ".py",
   "mimetype": "text/x-python",
   "name": "python",
   "nbconvert_exporter": "python",
   "pygments_lexer": "ipython3",
   "version": "3.8.11"
  }
 },
 "nbformat": 4,
 "nbformat_minor": 5
}
