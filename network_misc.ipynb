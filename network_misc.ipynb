{
 "cells": [
  {
   "cell_type": "code",
   "execution_count": 19,
   "id": "6d279de7",
   "metadata": {},
   "outputs": [],
   "source": [
    "import pandas as pd\n",
    "from tqdm.notebook import tqdm\n",
    "# file = pd.read_csv(\"F:/Supsi/COVID-19-Tweets/large_files/rt_network/names/rt_nt_2_6.csv\", \n",
    "#                    lineterminator=\"\\n\", low_memory=False)\n"
   ]
  },
  {
   "cell_type": "code",
   "execution_count": 21,
   "id": "f63140a8",
   "metadata": {},
   "outputs": [
    {
     "data": {
      "application/vnd.jupyter.widget-view+json": {
       "model_id": "b88fc33fc2ba49f1a1eebe6668fb96d4",
       "version_major": 2,
       "version_minor": 0
      },
      "text/plain": [
       "HBox(children=(HTML(value=''), FloatProgress(value=1.0, bar_style='info', layout=Layout(width='20px'), max=1.0…"
      ]
     },
     "metadata": {},
     "output_type": "display_data"
    },
    {
     "name": "stdout",
     "output_type": "stream",
     "text": [
      "\n"
     ]
    }
   ],
   "source": [
    "x  = file.head(1000)\n",
    "# .to_csv(\"C:/Users/gianl/Desktop/Gi/Supsi/prova_gephi.csv\", line_terminator=\"\\n\", encoding=\"utf-8\", index=False)\n",
    "x\n",
    "lst = list(set(list(x[\"name\"])))\n",
    "lst_2 = list(set(list(x[\"rt_name\"])))\n",
    "lst.extend(lst_2)\n",
    "lst = list(set(lst))\n",
    "len(lst)\n",
    "n = []\n",
    "rt_n = []\n",
    "users = pd.DataFrame(lst, columns=[\"name\"])\n",
    "for k,v in tqdm(x.iterrows()):\n",
    "    for i in range(len(lst)):\n",
    "        if lst[i] == v[\"name\"]:\n",
    "            n.append(i)\n",
    "        if lst[i] == v[\"rt_name\"]:\n",
    "            rt_n.append(i)\n",
    "#     print(v[\"rt_name\"])"
   ]
  },
  {
   "cell_type": "code",
   "execution_count": 27,
   "id": "4ccfa59c",
   "metadata": {},
   "outputs": [],
   "source": [
    "edges = pd.DataFrame(list(zip(n,rt_n)), columns=[\"Source\", \"Target\"])"
   ]
  },
  {
   "cell_type": "code",
   "execution_count": 28,
   "id": "a91b28f9",
   "metadata": {},
   "outputs": [],
   "source": [
    "id_ = []\n",
    "label = []\n",
    "for i in range(len(lst)):\n",
    "    id_.append(i)\n",
    "    label.append(lst[i])\n",
    "nodes = pd.DataFrame(list(zip(id_, label)), columns=[\"id\", \"label\"])\n",
    "nodes.to_csv(\"C:/Users/gianl/Desktop/Gi/Supsi/nodes.csv\", line_terminator=\"\\n\",\n",
    "             encoding=\"utf-8\", index=False)\n",
    "edges.to_csv(\"C:/Users/gianl/Desktop/Gi/Supsi/edges.csv\", line_terminator=\"\\n\",\n",
    "             encoding=\"utf-8\", index=False)\n"
   ]
  }
 ],
 "metadata": {
  "kernelspec": {
   "display_name": "Python 3",
   "language": "python",
   "name": "python3"
  },
  "language_info": {
   "codemirror_mode": {
    "name": "ipython",
    "version": 3
   },
   "file_extension": ".py",
   "mimetype": "text/x-python",
   "name": "python",
   "nbconvert_exporter": "python",
   "pygments_lexer": "ipython3",
   "version": "3.8.11"
  }
 },
 "nbformat": 4,
 "nbformat_minor": 5
}
